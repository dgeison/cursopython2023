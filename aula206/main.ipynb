{
 "cells": [
  {
   "cell_type": "code",
   "execution_count": 14,
   "metadata": {},
   "outputs": [],
   "source": [
    "# PyMySQL - um cliente MySQL feito em Python Puro\n",
    "# Doc: https://pymysql.readthedocs.io/en/latest/\n",
    "# Pypy: https://pypi.org/project/pymysql/\n",
    "# GitHub: https://github.com/PyMySQL/PyMySQL"
   ]
  },
  {
   "cell_type": "code",
   "execution_count": 15,
   "metadata": {},
   "outputs": [],
   "source": [
    "import os\n",
    "from typing import cast\n",
    "import dotenv\n",
    "import pymysql\n",
    "import pymysql.cursors"
   ]
  },
  {
   "cell_type": "code",
   "execution_count": 16,
   "metadata": {},
   "outputs": [],
   "source": [
    "TABLE_NAME = 'customers'\n",
    "CURRENT_CURSOR = pymysql.cursors.DictCursor"
   ]
  },
  {
   "cell_type": "code",
   "execution_count": 17,
   "metadata": {},
   "outputs": [
    {
     "data": {
      "text/plain": [
       "True"
      ]
     },
     "execution_count": 17,
     "metadata": {},
     "output_type": "execute_result"
    }
   ],
   "source": [
    "dotenv.load_dotenv()"
   ]
  },
  {
   "cell_type": "code",
   "execution_count": 18,
   "metadata": {},
   "outputs": [],
   "source": [
    "\n",
    "connection = pymysql.connect(\n",
    "    host=os.environ['MYSQL_HOST'],\n",
    "    user=os.environ['MYSQL_USER'],\n",
    "    password=os.environ['MYSQL_PASSWORD'],\n",
    "    database=os.environ['MYSQL_DATABASE'],\n",
    "    charset='utf8mb4',\n",
    "    cursorclass=CURRENT_CURSOR,\n",
    ")"
   ]
  },
  {
   "cell_type": "code",
   "execution_count": 19,
   "metadata": {},
   "outputs": [],
   "source": [
    "# with connection:"
   ]
  },
  {
   "cell_type": "code",
   "execution_count": 20,
   "metadata": {},
   "outputs": [],
   "source": [
    "with connection.cursor() as cursor:\n",
    "    cursor.execute(  # type: ignore\n",
    "        f'CREATE TABLE IF NOT EXISTS {TABLE_NAME} ('\n",
    "        'id INT NOT NULL AUTO_INCREMENT, '\n",
    "        'nome VARCHAR(50) NOT NULL, '\n",
    "        'idade INT NOT NULL, '\n",
    "        'PRIMARY KEY (id)'\n",
    "        ') '\n",
    "    )\n",
    "    # CUIDADO: ISSO LIMPA A TABELA\n",
    "    cursor.execute(f'TRUNCATE TABLE {TABLE_NAME}')  # type: ignore\n",
    "connection.commit()"
   ]
  },
  {
   "cell_type": "code",
   "execution_count": 21,
   "metadata": {},
   "outputs": [
    {
     "name": "stdout",
     "output_type": "stream",
     "text": [
      "INSERT INTO customers (nome, idade) VALUES (%s, %s)  ('Luiz', 18)\n",
      "1\n"
     ]
    }
   ],
   "source": [
    "# Começo a manipular dados a partir daqui\n",
    "# Inserindo um valor usando placeholder e um iterável\n",
    "with connection.cursor() as cursor:\n",
    "    sql = (\n",
    "        f'INSERT INTO {TABLE_NAME} '\n",
    "        '(nome, idade) '\n",
    "        'VALUES '\n",
    "        '(%s, %s) '\n",
    "    )\n",
    "    data = ('Luiz', 18)\n",
    "    result = cursor.execute(sql, data)  # type: ignore\n",
    "    print(sql, data)\n",
    "    print(result)\n",
    "connection.commit()"
   ]
  },
  {
   "cell_type": "code",
   "execution_count": 22,
   "metadata": {},
   "outputs": [
    {
     "name": "stdout",
     "output_type": "stream",
     "text": [
      "INSERT INTO customers (nome, idade) VALUES (%(name)s, %(age)s) \n",
      "{'age': 37, 'name': 'Le'}\n",
      "1\n"
     ]
    }
   ],
   "source": [
    "# Inserindo um valor usando placeholder e um dicionário\n",
    "with connection.cursor() as cursor:\n",
    "    sql = (\n",
    "        f'INSERT INTO {TABLE_NAME} '\n",
    "        '(nome, idade) '\n",
    "        'VALUES '\n",
    "        '(%(name)s, %(age)s) '\n",
    "    )\n",
    "    data2 = {\n",
    "        \"age\": 37,\n",
    "        \"name\": \"Le\",\n",
    "    }\n",
    "    result = cursor.execute(sql, data2)  # type: ignore\n",
    "    print(sql)\n",
    "    print(data2)\n",
    "    print(result)\n",
    "connection.commit()"
   ]
  },
  {
   "cell_type": "code",
   "execution_count": 23,
   "metadata": {},
   "outputs": [
    {
     "name": "stdout",
     "output_type": "stream",
     "text": [
      "INSERT INTO customers (nome, idade) VALUES (%(name)s, %(age)s) \n",
      "({'name': 'Sah', 'age': 33}, {'name': 'Júlia', 'age': 74}, {'name': 'Rose', 'age': 53})\n",
      "3\n"
     ]
    }
   ],
   "source": [
    "# Inserindo vários valores usando placeholder e um tupla de dicionários\n",
    "with connection.cursor() as cursor:\n",
    "    sql = (\n",
    "        f'INSERT INTO {TABLE_NAME} '\n",
    "        '(nome, idade) '\n",
    "        'VALUES '\n",
    "        '(%(name)s, %(age)s) '\n",
    "    )\n",
    "    data3 = (\n",
    "        {\"name\": \"Sah\", \"age\": 33, },\n",
    "        {\"name\": \"Júlia\", \"age\": 74, },\n",
    "        {\"name\": \"Rose\", \"age\": 53, },\n",
    "    )\n",
    "    result = cursor.executemany(sql, data3)  # type: ignore\n",
    "    print(sql)\n",
    "    print(data3)\n",
    "    print(result)\n",
    "connection.commit()"
   ]
  },
  {
   "cell_type": "code",
   "execution_count": 24,
   "metadata": {},
   "outputs": [
    {
     "name": "stdout",
     "output_type": "stream",
     "text": [
      "INSERT INTO customers (nome, idade) VALUES (%s, %s) \n",
      "(('Siri', 22), ('Helena', 15), ('Luiz', 18))\n",
      "3\n"
     ]
    }
   ],
   "source": [
    "# Inserindo vários valores usando placeholder e um tupla de tuplas\n",
    "with connection.cursor() as cursor:\n",
    "    sql = (\n",
    "        f'INSERT INTO {TABLE_NAME} '\n",
    "        '(nome, idade) '\n",
    "        'VALUES '\n",
    "        '(%s, %s) '\n",
    "    )\n",
    "    data4 = (\n",
    "        (\"Siri\", 22, ),\n",
    "        (\"Helena\", 15, ),\n",
    "        (\"Luiz\", 18, ),\n",
    "    )\n",
    "    result = cursor.executemany(sql, data4)  # type: ignore\n",
    "    print(sql)\n",
    "    print(data4)\n",
    "    print(result)\n",
    "connection.commit()"
   ]
  },
  {
   "cell_type": "code",
   "execution_count": 25,
   "metadata": {},
   "outputs": [
    {
     "name": "stdout",
     "output_type": "stream",
     "text": [
      "SELECT * FROM customers WHERE id BETWEEN 2 AND 4  \n",
      "{'id': 2, 'nome': 'Le', 'idade': 37}\n",
      "{'id': 3, 'nome': 'Sah', 'idade': 33}\n",
      "{'id': 4, 'nome': 'Júlia', 'idade': 74}\n"
     ]
    }
   ],
   "source": [
    "# Lendo os valores com SELECT\n",
    "with connection.cursor() as cursor:\n",
    "    # menor_id = int(input('Digite o menor id: '))\n",
    "    # maior_id = int(input('Digite o maior id: '))\n",
    "    menor_id = 2\n",
    "    maior_id = 4\n",
    "\n",
    "    sql = (\n",
    "        f'SELECT * FROM {TABLE_NAME} '\n",
    "        'WHERE id BETWEEN %s AND %s  '\n",
    "    )\n",
    "\n",
    "    cursor.execute(sql, (menor_id, maior_id))  # type: ignore\n",
    "    print(cursor.mogrify(sql, (menor_id, maior_id)))  # type: ignore\n",
    "    data5 = cursor.fetchall()  # type: ignore\n",
    "    # print(data5)\n",
    "    for row in data5:\n",
    "        print(row)"
   ]
  },
  {
   "cell_type": "code",
   "execution_count": 27,
   "metadata": {},
   "outputs": [
    {
     "name": "stdout",
     "output_type": "stream",
     "text": [
      "1\n",
      "{'id': 2, 'nome': 'Le', 'idade': 37}\n",
      "{'id': 3, 'nome': 'Sah', 'idade': 33}\n",
      "{'id': 4, 'nome': 'Júlia', 'idade': 74}\n",
      "{'id': 5, 'nome': 'Rose', 'idade': 53}\n",
      "{'id': 6, 'nome': 'Siri', 'idade': 22}\n",
      "{'id': 7, 'nome': 'Helena', 'idade': 15}\n",
      "{'id': 8, 'nome': 'Luiz', 'idade': 18}\n"
     ]
    }
   ],
   "source": [
    "# Apagando com DELETE, WHERE e placeholders no PyMySQL\n",
    "with connection.cursor() as cursor:\n",
    "    sql = (\n",
    "        f'DELETE FROM {TABLE_NAME} '\n",
    "        'WHERE id = %s'\n",
    "    )\n",
    "    print(cursor.execute(sql, (1,)))  # type: ignore\n",
    "    # print(cursor.execute(sql))  # type: ignore\n",
    "    connection.commit()\n",
    "\n",
    "    cursor.execute(f'SELECT * FROM {TABLE_NAME} ')  # type: ignore\n",
    "\n",
    "    for row in cursor.fetchall():  # type: ignore\n",
    "        print(row)"
   ]
  },
  {
   "cell_type": "code",
   "execution_count": 30,
   "metadata": {},
   "outputs": [
    {
     "name": "stdout",
     "output_type": "stream",
     "text": [
      "{'id': 2, 'nome': 'Le', 'idade': 37}\n",
      "{'id': 3, 'nome': 'Sah', 'idade': 33}\n",
      "{'id': 4, 'nome': 'Eleonor', 'idade': 102}\n",
      "{'id': 5, 'nome': 'Rose', 'idade': 53}\n",
      "{'id': 6, 'nome': 'Siri', 'idade': 22}\n",
      "{'id': 7, 'nome': 'Helena', 'idade': 15}\n",
      "{'id': 8, 'nome': 'Luiz', 'idade': 18}\n",
      "resultFromSelect 7\n",
      "len(data6) 7\n",
      "rowcount 7\n",
      "lastrowid None\n",
      "lastrowid na mão {'id': 8}\n",
      "rownumber 0\n"
     ]
    }
   ],
   "source": [
    "# Editando com UPDATE, WHERE e placeholders no PyMySQL\n",
    "with connection.cursor() as cursor:\n",
    "    cursor = cast(CURRENT_CURSOR, cursor)\n",
    "\n",
    "    sql = (\n",
    "        f'UPDATE {TABLE_NAME} '\n",
    "        'SET nome=%s, idade=%s '\n",
    "        'WHERE id=%s'\n",
    "    )\n",
    "    cursor.execute(sql, ('Eleonor', 102, 4))\n",
    "\n",
    "    cursor.execute(\n",
    "        f'SELECT id from {TABLE_NAME} ORDER BY id DESC LIMIT 1'\n",
    "    )\n",
    "    lastIdFromSelect = cursor.fetchone()\n",
    "\n",
    "    resultFromSelect = cursor.execute(f'SELECT * FROM {TABLE_NAME} ')\n",
    "\n",
    "    data6 = cursor.fetchall()\n",
    "\n",
    "    for row in data6:\n",
    "        print(row)\n",
    "\n",
    "    print('resultFromSelect', resultFromSelect)\n",
    "    print('len(data6)', len(data6))\n",
    "    print('rowcount', cursor.rowcount)\n",
    "    print('lastrowid', cursor.lastrowid)\n",
    "    print('lastrowid na mão', lastIdFromSelect)\n",
    "\n",
    "    cursor.scroll(0, 'absolute')\n",
    "    print('rownumber', cursor.rownumber)\n",
    "\n",
    "connection.commit()"
   ]
  }
 ],
 "metadata": {
  "kernelspec": {
   "display_name": ".pyenv",
   "language": "python",
   "name": "python3"
  },
  "language_info": {
   "codemirror_mode": {
    "name": "ipython",
    "version": 3
   },
   "file_extension": ".py",
   "mimetype": "text/x-python",
   "name": "python",
   "nbconvert_exporter": "python",
   "pygments_lexer": "ipython3",
   "version": "3.10.6"
  },
  "orig_nbformat": 4
 },
 "nbformat": 4,
 "nbformat_minor": 2
}

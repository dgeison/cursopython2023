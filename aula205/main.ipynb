{
 "cells": [
  {
   "cell_type": "code",
   "execution_count": 1,
   "metadata": {},
   "outputs": [],
   "source": [
    "import os\n",
    "import sqlite3\n",
    "\n",
    "from pathlib import Path"
   ]
  },
  {
   "cell_type": "code",
   "execution_count": 2,
   "metadata": {},
   "outputs": [],
   "source": [
    "ROOT_DIR = os.getcwd()\n",
    "DB_NAME = 'db.sqlite3'\n",
    "DB_FILE = os.path.join(ROOT_DIR, DB_NAME)\n",
    "\n",
    "connection = sqlite3.connect(DB_FILE)\n",
    "cursor = connection.cursor()"
   ]
  },
  {
   "cell_type": "code",
   "execution_count": null,
   "metadata": {},
   "outputs": [],
   "source": [
    "# CRUD - Create Read   Update Delete\n",
    "# SQL -  INSERT SELECT UPDATE DELETE"
   ]
  },
  {
   "cell_type": "code",
   "execution_count": 3,
   "metadata": {},
   "outputs": [],
   "source": [
    "# Cria a tabela\n",
    "TABLE_NAME = 'customers'\n",
    "\n",
    "cursor.execute(\n",
    "    f'CREATE TABLE IF NOT EXISTS {TABLE_NAME}'\n",
    "    '('\n",
    "    'id INTEGER PRIMARY KEY AUTOINCREMENT,'\n",
    "    'name TEXT,'\n",
    "    'weight REAL'\n",
    "    ')'\n",
    ")\n",
    "connection.commit()"
   ]
  },
  {
   "cell_type": "code",
   "execution_count": 7,
   "metadata": {},
   "outputs": [],
   "source": [
    "# Registrar valores nas colunas da tabela\n",
    "sql = (\n",
    "    f'INSERT INTO {TABLE_NAME} '\n",
    "    '(name, weight) '\n",
    "    'VALUES '\n",
    "    '(:nome, :peso)'\n",
    ")\n",
    "cursor.execute(sql, ['Joana', 4])\n",
    "connection.commit()\n"
   ]
  },
  {
   "cell_type": "code",
   "execution_count": 8,
   "metadata": {},
   "outputs": [],
   "source": [
    "cursor.executemany(\n",
    "    sql,\n",
    "    (\n",
    "        ('Joana', 4), ('Luiz', 5)\n",
    "    )\n",
    ")\n",
    "connection.commit()"
   ]
  },
  {
   "cell_type": "code",
   "execution_count": 11,
   "metadata": {},
   "outputs": [],
   "source": [
    "# CUIDADO: fazendo delete sem where\n",
    "cursor.execute(\n",
    "    f'DELETE FROM {TABLE_NAME}'\n",
    ")\n",
    "connection.commit()"
   ]
  },
  {
   "cell_type": "code",
   "execution_count": 9,
   "metadata": {},
   "outputs": [],
   "source": [
    "# DELETE mais cuidadoso\n",
    "cursor.execute(\n",
    "    f'DELETE FROM sqlite_sequence WHERE name=\"{TABLE_NAME}\"'\n",
    ")\n",
    "connection.commit()"
   ]
  },
  {
   "cell_type": "code",
   "execution_count": 12,
   "metadata": {},
   "outputs": [],
   "source": [
    "cursor.execute(sql, {'nome': 'Sem nome', 'peso': 3})\n",
    "cursor.executemany(sql, (\n",
    "    {'nome': 'Joãozinho', 'peso': 3},\n",
    "    {'nome': 'Maria', 'peso': 2},\n",
    "    {'nome': 'Helena', 'peso': 4},\n",
    "    {'nome': 'Joana', 'peso': 5},\n",
    "))\n",
    "connection.commit()"
   ]
  },
  {
   "cell_type": "code",
   "execution_count": null,
   "metadata": {},
   "outputs": [],
   "source": [
    "if __name__ == '__main__':\n",
    "    print(sql)\n",
    "\n",
    "    cursor.execute(\n",
    "        f'DELETE FROM {TABLE_NAME} '\n",
    "        'WHERE id = \"3\"'\n",
    "    )\n",
    "    cursor.execute(\n",
    "        f'DELETE FROM {TABLE_NAME} '\n",
    "        'WHERE id = 1'\n",
    "    )\n",
    "    connection.commit()\n",
    "\n",
    "    cursor.execute(\n",
    "        f'UPDATE {TABLE_NAME} '\n",
    "        'SET name=\"QUALQUER\", weight=67.89 '\n",
    "        'WHERE id = 2'\n",
    "    )\n",
    "    connection.commit()\n",
    "\n",
    "    cursor.execute(\n",
    "        f'SELECT * FROM {TABLE_NAME}'\n",
    "    )\n",
    "\n",
    "    for row in cursor.fetchall():\n",
    "        _id, name, weight = row\n",
    "        print(_id, name, weight)\n",
    "\n",
    "    cursor.close()\n",
    "    connection.close()"
   ]
  },
  {
   "cell_type": "code",
   "execution_count": null,
   "metadata": {},
   "outputs": [],
   "source": [
    "cursor.close()\n",
    "connection.close()"
   ]
  }
 ],
 "metadata": {
  "kernelspec": {
   "display_name": ".pyenv",
   "language": "python",
   "name": "python3"
  },
  "language_info": {
   "codemirror_mode": {
    "name": "ipython",
    "version": 3
   },
   "file_extension": ".py",
   "mimetype": "text/x-python",
   "name": "python",
   "nbconvert_exporter": "python",
   "pygments_lexer": "ipython3",
   "version": "3.10.6"
  },
  "orig_nbformat": 4
 },
 "nbformat": 4,
 "nbformat_minor": 2
}
